{
 "cells": [
  {
   "cell_type": "code",
   "execution_count": 28,
   "metadata": {},
   "outputs": [
    {
     "name": "stderr",
     "output_type": "stream",
     "text": [
      "[nltk_data] Downloading package punkt to\n",
      "[nltk_data]     /users/ldefrancesca/nltk_data...\n",
      "[nltk_data]   Package punkt is already up-to-date!\n"
     ]
    },
    {
     "data": {
      "text/plain": [
       "True"
      ]
     },
     "execution_count": 28,
     "metadata": {},
     "output_type": "execute_result"
    }
   ],
   "source": [
    "import spacy\n",
    "import nltk\n",
    "from spacy.tokens import Doc\n",
    "from nltk.corpus import PlaintextCorpusReader\n",
    "from nltk.tokenize import RegexpTokenizer\n",
    "nltk.download('punkt')"
   ]
  },
  {
   "cell_type": "code",
   "execution_count": 60,
   "metadata": {},
   "outputs": [],
   "source": [
    "# Expresion regular\n",
    "pattern = r'''(?x)      \n",
    "   (?:\\d{1,3}(?:\\.\\d{3})+)\n",
    "   | (?:[Pp]unto[s]*\\s+[\\d[.,]]+)\n",
    "   | (?:[A-Z][a-z]\\.\\s*[A-Z][a-z]\\.)                                     # Abreviaciones tipo Bs. As. o Bs.As. \n",
    "   | (?:Nº\\s*\\d*.\\d+)                                                    # Nº numero\n",
    "   | (?:[Aa]rt[ií]culo[\\s+Nº]*\\s+\\d+º*)                                 # articulos\n",
    "   | (?:[Aa]rt\\.*[\\s+\\d+]+º*)                                           # articulos abreviados\n",
    "   | (?:[Ll]ey\\sN[º + o]*\\s\\d{1,}(?:\\.\\d{3})*)                             # leyes\n",
    "   | (?:[Dd]ecreto[s]*\\sN[º + o]\\s*\\d{1,})                                  # decretos\n",
    "   | (?:[Rr]esoluci[óo]n\\sN[º + o]\\s*\\d{1,})                                # resoluciones\n",
    "   | (?:[Ee]xpediente[s]*\\sN[° + º]*\\s\\d{1,})                              # expedientes\n",
    "   | (?:\\d{1,2}\\sde\\s[a-z]+\\sde\\s\\d{4})                                    # fechas\n",
    "   | (?:[Ss]r\\.|[Ss]ra\\.)                                                  # abreviaciones\n",
    "   | (?:[A-Z] + \\s)+                                                       # entidades en mayusculas\n",
    "   | (?:[A-Z]\\.)+                           \n",
    "   | \\w+(?:-\\w+)*                           \n",
    "   | \\$?\\d+(?:\\.\\d+)?%?                     \n",
    "   | \\.\\.\\.                                 \n",
    "   | [][.,;\"'?():-_`]\n",
    "   | (?:[.\\n])\n",
    "   | (?:\\d+)\n",
    "'''\n"
   ]
  },
  {
   "cell_type": "code",
   "execution_count": 61,
   "metadata": {},
   "outputs": [
    {
     "data": {
      "text/plain": [
       "['As',\n",
       " '.',\n",
       " ',',\n",
       " '8',\n",
       " '6',\n",
       " '2005',\n",
       " 'Visto',\n",
       " 'los',\n",
       " 'Expedientes Nº 8766',\n",
       " 'y',\n",
       " 'Nº',\n",
       " '9483',\n",
       " 'del',\n",
       " 'Registro',\n",
       " 'del',\n",
       " 'ENTE NACIONAL REGULADOR DEL GAS ',\n",
       " '(',\n",
       " 'ENARGAS',\n",
       " ')',\n",
       " ',',\n",
       " 'las',\n",
       " 'disposiciones',\n",
       " 'de',\n",
       " 'la',\n",
       " 'Ley No 24.076',\n",
       " ',',\n",
       " 'la',\n",
       " 'Ley Nº 25.561',\n",
       " ',',\n",
       " 'la',\n",
       " 'Ley Nº 25.790',\n",
       " ',',\n",
       " 'y',\n",
       " 'la',\n",
       " 'Ley Nº 25.972',\n",
       " ',',\n",
       " 'los',\n",
       " 'Decretos Nº 180',\n",
       " 'y',\n",
       " '181',\n",
       " 'de',\n",
       " 'fecha',\n",
       " '16 de febrero de 2004',\n",
       " ',',\n",
       " 'los',\n",
       " 'Decretos Nº 1738',\n",
       " 'del',\n",
       " '18 de septiembre de 1992',\n",
       " ',',\n",
       " 'Nº',\n",
       " '2731',\n",
       " 'del',\n",
       " '29 de diciembre de 1993',\n",
       " ',',\n",
       " 'Nº',\n",
       " '1411',\n",
       " 'del',\n",
       " '18 de agosto de 1994',\n",
       " ',',\n",
       " 'la',\n",
       " 'Resolución Nº 265',\n",
       " 'de',\n",
       " 'la',\n",
       " 'SECRETARIA DE ENERGIA ',\n",
       " 'de',\n",
       " 'fecha',\n",
       " '24 de marzo de 2004',\n",
       " ',',\n",
       " 'la',\n",
       " 'Disposición',\n",
       " 'Nº',\n",
       " '27',\n",
       " 'de',\n",
       " 'la',\n",
       " 'SUBSECRETARIA DE COMBUSTIBLES ',\n",
       " 'de',\n",
       " 'fecha',\n",
       " '29 de marzo de 2003',\n",
       " ',',\n",
       " 'la',\n",
       " 'Resolución',\n",
       " '208',\n",
       " 'DEL MINISTERIO DE PLANIFICACION ',\n",
       " 'FEDERAL',\n",
       " ',',\n",
       " 'INVERSION PUBLICA Y SERVICIOS ',\n",
       " 'del',\n",
       " '22 de abril de 2004',\n",
       " ',',\n",
       " 'la',\n",
       " 'Resolución',\n",
       " 'S.E.']"
      ]
     },
     "execution_count": 61,
     "metadata": {},
     "output_type": "execute_result"
    }
   ],
   "source": [
    "# Carga de la ley 107452 usando la expresion regular definida para la tokenizacion\n",
    "tokenizer = RegexpTokenizer(pattern)\n",
    "corpus = PlaintextCorpusReader('../corpus/', '107452.txt', word_tokenizer=tokenizer)\n",
    "\n",
    "tokens = list(corpus.sents())\n",
    "tokens[2]"
   ]
  },
  {
   "cell_type": "code",
   "execution_count": 62,
   "metadata": {
    "scrolled": true
   },
   "outputs": [
    {
     "data": {
      "text/plain": [
       "As . , 8 6 2005 Visto los Expedientes Nº 8766 y Nº 9483 del Registro del ENTE NACIONAL REGULADOR DEL GAS  ( ENARGAS ) , las disposiciones de la Ley No 24.076 , la Ley Nº 25.561 , la Ley Nº 25.790 , y la Ley Nº 25.972 , los Decretos Nº 180 y 181 de fecha 16 de febrero de 2004 , los Decretos Nº 1738 del 18 de septiembre de 1992 , Nº 2731 del 29 de diciembre de 1993 , Nº 1411 del 18 de agosto de 1994 , la Resolución Nº 265 de la SECRETARIA DE ENERGIA  de fecha 24 de marzo de 2004 , la Disposición Nº 27 de la SUBSECRETARIA DE COMBUSTIBLES  de fecha 29 de marzo de 2003 , la Resolución 208 DEL MINISTERIO DE PLANIFICACION  FEDERAL , INVERSION PUBLICA Y SERVICIOS  del 22 de abril de 2004 , la Resolución S.E. "
      ]
     },
     "execution_count": 62,
     "metadata": {},
     "output_type": "execute_result"
    }
   ],
   "source": [
    "nlp = spacy.load('es')\n",
    "ner = nlp.get_pipe('ner')\n",
    "parser = nlp.get_pipe('tagger')\n",
    "\n",
    "doc = Doc(nlp.vocab, words=tokens[2])\n",
    "\n",
    "ner(doc)\n",
    "parser(doc)"
   ]
  },
  {
   "cell_type": "code",
   "execution_count": 63,
   "metadata": {},
   "outputs": [
    {
     "name": "stdout",
     "output_type": "stream",
     "text": [
      "token: As, pos: NOUN, ner:\n",
      "token: ., pos: PUNCT, ner:\n",
      "token: ,, pos: PUNCT, ner:\n",
      "token: 8, pos: NUM, ner:\n",
      "token: 6, pos: NUM, ner:\n",
      "token: 2005, pos: NUM, ner:\n",
      "token: Visto, pos: PROPN, ner:ORG\n",
      "token: los, pos: DET, ner:\n",
      "token: Expedientes Nº 8766, pos: PROPN, ner:ORG\n",
      "token: y, pos: CONJ, ner:\n",
      "token: Nº, pos: PROPN, ner:MISC\n",
      "token: 9483, pos: NOUN, ner:MISC\n",
      "token: del, pos: ADP, ner:MISC\n",
      "token: Registro, pos: PROPN, ner:MISC\n",
      "token: del, pos: ADP, ner:MISC\n",
      "token: ENTE NACIONAL REGULADOR DEL GAS , pos: PROPN, ner:MISC\n",
      "token: (, pos: PUNCT, ner:\n",
      "token: ENARGAS, pos: PROPN, ner:ORG\n",
      "token: ), pos: PUNCT, ner:\n",
      "token: ,, pos: PUNCT, ner:\n",
      "token: las, pos: DET, ner:\n",
      "token: disposiciones, pos: NOUN, ner:\n",
      "token: de, pos: ADP, ner:\n",
      "token: la, pos: DET, ner:\n",
      "token: Ley No 24.076, pos: PROPN, ner:\n",
      "token: ,, pos: PUNCT, ner:\n",
      "token: la, pos: DET, ner:\n",
      "token: Ley Nº 25.561, pos: PROPN, ner:\n",
      "token: ,, pos: PUNCT, ner:\n",
      "token: la, pos: DET, ner:\n",
      "token: Ley Nº 25.790, pos: PROPN, ner:\n",
      "token: ,, pos: PUNCT, ner:\n",
      "token: y, pos: CONJ, ner:\n",
      "token: la, pos: DET, ner:\n",
      "token: Ley Nº 25.972, pos: PROPN, ner:\n",
      "token: ,, pos: PUNCT, ner:\n",
      "token: los, pos: DET, ner:\n",
      "token: Decretos Nº 180, pos: PROPN, ner:MISC\n",
      "token: y, pos: CONJ, ner:\n",
      "token: 181, pos: NUM, ner:\n",
      "token: de, pos: ADP, ner:\n",
      "token: fecha, pos: NOUN, ner:\n",
      "token: 16 de febrero de 2004, pos: NUM, ner:\n",
      "token: ,, pos: PUNCT, ner:\n",
      "token: los, pos: DET, ner:\n",
      "token: Decretos Nº 1738, pos: PROPN, ner:\n",
      "token: del, pos: ADP, ner:\n",
      "token: 18 de septiembre de 1992, pos: NUM, ner:\n",
      "token: ,, pos: PUNCT, ner:\n",
      "token: Nº, pos: PROPN, ner:MISC\n",
      "token: 2731, pos: NOUN, ner:MISC\n",
      "token: del, pos: ADP, ner:MISC\n",
      "token: 29 de diciembre de 1993, pos: NUM, ner:MISC\n",
      "token: ,, pos: PUNCT, ner:\n",
      "token: Nº, pos: PROPN, ner:MISC\n",
      "token: 1411, pos: NOUN, ner:MISC\n",
      "token: del, pos: ADP, ner:\n",
      "token: 18 de agosto de 1994, pos: NUM, ner:\n",
      "token: ,, pos: PUNCT, ner:\n",
      "token: la, pos: DET, ner:\n",
      "token: Resolución Nº 265, pos: PROPN, ner:ORG\n",
      "token: de, pos: ADP, ner:\n",
      "token: la, pos: DET, ner:\n",
      "token: SECRETARIA DE ENERGIA , pos: PROPN, ner:\n",
      "token: de, pos: ADP, ner:\n",
      "token: fecha, pos: NOUN, ner:\n",
      "token: 24 de marzo de 2004, pos: NUM, ner:\n",
      "token: ,, pos: PUNCT, ner:\n",
      "token: la, pos: DET, ner:\n",
      "token: Disposición, pos: PROPN, ner:ORG\n",
      "token: Nº, pos: PROPN, ner:ORG\n",
      "token: 27, pos: NUM, ner:\n",
      "token: de, pos: ADP, ner:\n",
      "token: la, pos: DET, ner:\n",
      "token: SUBSECRETARIA DE COMBUSTIBLES , pos: PROPN, ner:\n",
      "token: de, pos: ADP, ner:\n",
      "token: fecha, pos: NOUN, ner:\n",
      "token: 29 de marzo de 2003, pos: NUM, ner:\n",
      "token: ,, pos: PUNCT, ner:\n",
      "token: la, pos: DET, ner:\n",
      "token: Resolución, pos: PROPN, ner:MISC\n",
      "token: 208, pos: NUM, ner:MISC\n",
      "token: DEL MINISTERIO DE PLANIFICACION , pos: PROPN, ner:MISC\n",
      "token: FEDERAL, pos: PROPN, ner:MISC\n",
      "token: ,, pos: PUNCT, ner:\n",
      "token: INVERSION PUBLICA Y SERVICIOS , pos: PUNCT, ner:\n",
      "token: del, pos: ADP, ner:\n",
      "token: 22 de abril de 2004, pos: NUM, ner:\n",
      "token: ,, pos: PUNCT, ner:\n",
      "token: la, pos: DET, ner:\n",
      "token: Resolución, pos: PROPN, ner:MISC\n",
      "token: S.E., pos: PROPN, ner:MISC\n"
     ]
    }
   ],
   "source": [
    "for token in doc:\n",
    "    print(\"token: {}, pos: {}, ner:{}\".format(token.text, token.pos_, token.ent_type_))"
   ]
  }
 ],
 "metadata": {
  "kernelspec": {
   "display_name": "Python 3",
   "language": "python",
   "name": "python3"
  },
  "language_info": {
   "codemirror_mode": {
    "name": "ipython",
    "version": 3
   },
   "file_extension": ".py",
   "mimetype": "text/x-python",
   "name": "python",
   "nbconvert_exporter": "python",
   "pygments_lexer": "ipython3",
   "version": "3.7.3"
  }
 },
 "nbformat": 4,
 "nbformat_minor": 2
}
